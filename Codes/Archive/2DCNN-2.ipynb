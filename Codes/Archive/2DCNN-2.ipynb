{
 "cells": [
  {
   "cell_type": "markdown",
   "metadata": {},
   "source": [
    "# Importing Packages"
   ]
  },
  {
   "cell_type": "code",
   "execution_count": 1,
   "metadata": {},
   "outputs": [],
   "source": [
    "# filter warnings\n",
    "import warnings\n",
    "\n",
    "warnings.simplefilter(action=\"ignore\", category=FutureWarning)\n",
    "\n",
    "# keras imports\n",
    "import tensorflow as tf\n",
    "\n",
    "\n",
    "from tensorflow.keras import preprocessing, callbacks \n",
    "from tensorflow.keras.models import Model\n",
    "from tensorflow.keras.models import model_from_json\n",
    "from tensorflow.keras.layers import Input, Dense, GlobalAveragePooling2D, Flatten\n",
    "\n",
    "# import seaborn as sns\n",
    "# import tsfel\n",
    "import timeit\n",
    "import pandas as pd\n",
    "import matplotlib.pyplot as plt\n",
    "import numpy as np\n",
    "import os, sys, logging, h5py\n",
    "from PIL import Image\n",
    "from pathlib import Path as Pathlb\n",
    "\n",
    "\n",
    "# Custom imports\n",
    "from scipy import signal\n",
    "import seaborn as sns\n",
    "\n",
    "\n",
    "sns.set()\n",
    "\n",
    "sys.path.insert(0, os.path.abspath(os.path.join('..')))\n",
    "from MLPackage import Features as feat\n",
    "from MLPackage import config as cfg\n",
    "\n",
    "\n",
    "os.environ[\"KMP_DUPLICATE_LIB_OK\"] = \"True\"\n",
    "os.environ[\"TF_CPP_MIN_LOG_LEVEL\"] = \"2\""
   ]
  },
  {
   "cell_type": "markdown",
   "metadata": {},
   "source": [
    "# Setting Logger"
   ]
  },
  {
   "cell_type": "code",
   "execution_count": 2,
   "metadata": {},
   "outputs": [
    {
     "name": "stderr",
     "output_type": "stream",
     "text": [
      "\u001b[38;5;39m[12/07/2021 12:01:11 PM ]-\u001b[38;5;226m[2DCNN_ipynb @37]\u001b[0m\u001b[38;5;39m-[INFO]\u001b[0m\u001b[31;1m\t\tImporting libraries....\u001b[0m\n"
     ]
    }
   ],
   "source": [
    "project_dir = os.getcwd()[:-5]\n",
    "log_path = os.path.join(project_dir, 'logs')\n",
    "temp_dir = os.path.join(project_dir, \"temp\")\n",
    "\n",
    "Pathlb(log_path).mkdir(parents=True, exist_ok=True)\n",
    "\n",
    "\n",
    "\n",
    "def create_logger(level):\n",
    "    loggerName = \"2DCNN_ipynb\"\n",
    "    Pathlb(log_path).mkdir(parents=True, exist_ok=True)\n",
    "    grey = '\\x1b[38;21m'\n",
    "    blue = '\\x1b[38;5;39m'\n",
    "    yellow = '\\x1b[38;5;226m'\n",
    "    red = '\\x1b[38;5;196m'\n",
    "    bold_red = '\\x1b[31;1m'\n",
    "    reset = '\\x1b[0m'\n",
    "\n",
    "    logger = logging.getLogger(loggerName)\n",
    "    logger.setLevel(level)\n",
    "    formatter_colored = logging.Formatter(blue + '[%(asctime)s]-' + yellow + '[%(name)s @%(lineno)d]' + reset + blue + '-[%(levelname)s]' + reset + bold_red + '\\t\\t%(message)s' + reset, datefmt='%m/%d/%Y %I:%M:%S %p ')\n",
    "    formatter = logging.Formatter('[%(asctime)s]-[%(name)s @%(lineno)d]-[%(levelname)s]\\t\\t%(message)s', datefmt='%m/%d/%Y %I:%M:%S %p ')\n",
    "    file_handler = logging.FileHandler( os.path.join(log_path, loggerName + '_loger.log'), mode = 'w')\n",
    "    file_handler.setLevel(level)\n",
    "    file_handler.setFormatter(formatter)\n",
    "    stream_handler = logging.StreamHandler()\n",
    "    stream_handler.setLevel(logging.INFO)\n",
    "\n",
    "    stream_handler.setFormatter(formatter_colored)\n",
    "\n",
    "    logger.addHandler(file_handler)\n",
    "    logger.addHandler(stream_handler)\n",
    "    return logger\n",
    "logger = create_logger(logging.DEBUG)\n",
    "\n",
    "\n",
    "logger.info(\"Importing libraries....\")"
   ]
  },
  {
   "cell_type": "markdown",
   "metadata": {},
   "source": [
    "# Image Preprocessing and Loading"
   ]
  },
  {
   "cell_type": "markdown",
   "metadata": {},
   "source": [
    "## Loading Images"
   ]
  },
  {
   "cell_type": "code",
   "execution_count": 91,
   "metadata": {},
   "outputs": [
    {
     "name": "stderr",
     "output_type": "stream",
     "text": [
      "\u001b[38;5;39m[12/08/2021 01:57:53 PM ]-\u001b[38;5;226m[2DCNN_ipynb @1]\u001b[0m\u001b[38;5;39m-[INFO]\u001b[0m\u001b[31;1m\t\t[INFO] reading dataset....\u001b[0m\n",
      "\u001b[38;5;39m[12/08/2021 02:00:38 PM ]-\u001b[38;5;226m[2DCNN_ipynb @9]\u001b[0m\u001b[38;5;39m-[INFO]\u001b[0m\u001b[31;1m\t\tbarefoots.shape: (1745, 80, 60, 200)\u001b[0m\n",
      "\u001b[38;5;39m[12/08/2021 02:00:38 PM ]-\u001b[38;5;226m[2DCNN_ipynb @10]\u001b[0m\u001b[38;5;39m-[INFO]\u001b[0m\u001b[31;1m\t\tmetadata.shape: (1745, 10)\u001b[0m\n"
     ]
    },
    {
     "data": {
      "text/plain": [
       "<matplotlib.image.AxesImage at 0x220a9adeb50>"
      ]
     },
     "execution_count": 91,
     "metadata": {},
     "output_type": "execute_result"
    },
    {
     "data": {
      "image/png": "[encoded data removed]",
      "text/plain": [
       "<Figure size 432x288 with 1 Axes>"
      ]
     },
     "metadata": {},
     "output_type": "display_data"
    }
   ],
   "source": [
    "logger.info(\"[INFO] reading dataset....\")\n",
    "with h5py.File('c:\\\\Project\\\\Worksheet\\\\Datasets\\\\footpressures_align.h5', \"r\") as hdf: #todo cfg.configs[\"paths\"][\"stepscan_dataset\"]\n",
    "    barefoots = hdf.get(\"/barefoot/data\")[:]\n",
    "    metadata = hdf.get(\"/barefoot/metadata\")[:]\n",
    "\n",
    "\n",
    "data = barefoots.transpose(0,2,3,1)\n",
    "\n",
    "logger.info(f\"barefoots.shape: {data.shape}\")\n",
    "logger.info(f\"metadata.shape: {metadata.shape}\")\n",
    "plt.imshow(data[1,:,:,:].sum(axis=2))\n"
   ]
  },
  {
   "cell_type": "code",
   "execution_count": null,
   "metadata": {},
   "outputs": [],
   "source": [
    "np.max(data[1,:,:,:])"
   ]
  },
  {
   "cell_type": "markdown",
   "metadata": {},
   "source": [
    "## Extracting Image Features"
   ]
  },
  {
   "cell_type": "code",
   "execution_count": 9,
   "metadata": {},
   "outputs": [
    {
     "name": "stdout",
     "output_type": "stream",
     "text": [
      "0 0\n"
     ]
    },
    {
     "name": "stderr",
     "output_type": "stream",
     "text": [
      "\u001b[38;5;39m[12/07/2021 01:20:26 PM ]-\u001b[38;5;226m[2DCNN_ipynb @43]\u001b[0m\u001b[38;5;39m-[INFO]\u001b[0m\u001b[31;1m\t\tlen prefeatures: 1743\u001b[0m\n",
      "\u001b[38;5;39m[12/07/2021 01:20:26 PM ]-\u001b[38;5;226m[2DCNN_ipynb @44]\u001b[0m\u001b[38;5;39m-[INFO]\u001b[0m\u001b[31;1m\t\tprefeatures.shape: (60, 40, 10)\u001b[0m\n",
      "\u001b[38;5;39m[12/07/2021 01:20:26 PM ]-\u001b[38;5;226m[2DCNN_ipynb @45]\u001b[0m\u001b[38;5;39m-[INFO]\u001b[0m\u001b[31;1m\t\tlabels.shape: (10,)\u001b[0m\n"
     ]
    }
   ],
   "source": [
    "features = list()\n",
    "labels = list()\n",
    "\n",
    "for label, sample in zip(metadata, data):\n",
    "    # print(np.shape(sample))\n",
    "    # print(np.max(sample))\n",
    "    try:\n",
    "        B = sample.sum(axis=1).sum(axis=0)\n",
    "        A = np.trim_zeros(sample.sum(axis=1).sum(axis=0))\n",
    "        aa = np.where(B == A[0])\n",
    "        bb = np.where(B == A[-1])\n",
    "        # print(aa[0][0])\n",
    "        # print(bb[0][0])\n",
    "        # print(np.trim_zeros(sample.sum(axis=1).sum(axis=0)))\n",
    "\n",
    "        if aa[0][0]<bb[0][0]:\n",
    "            features.append(feat.prefeatures(sample[10:70, 10:50, aa[0][0]:bb[0][0]]))\n",
    "            labels.append(label)\n",
    "        else:\n",
    "            print(aa[0][0],bb[0][0])\n",
    "            k=sample\n",
    "            l=label\n",
    "    except:\n",
    "        continue\n",
    "    # labels.append(label)\n",
    "    # break\n",
    "    # f = np.trim_zeros(sample.sum(axis=1).sum(axis=0),'f').shape[0]\n",
    "    # b = np.trim_zeros(sample.sum(axis=1).sum(axis=0),'b').shape[0]\n",
    "    # print(b, f,)\n",
    "\n",
    "    # temp = np.zeros(sample[:,:,b:f].shape)\n",
    "    # temp[sample[:,:,b:f] > 5] = 1\n",
    "    # CD = np.sum(temp, axis=2)\n",
    "\n",
    "    \n",
    "        \n",
    "    # # plt.imshow(sample[:,:,100])\n",
    "    # print(np.max(sample[:,:,100]))\n",
    "    # # break\n",
    "    \n",
    "\n",
    "\n",
    "logger.info(f\"len prefeatures: {len(features)}\")\n",
    "logger.info(f\"prefeatures.shape: {features[0].shape}\")\n",
    "logger.info(f\"labels.shape: {labels[0].shape}\")\n",
    "\n",
    "np.save(os.path.join(temp_dir, 'prefeatures-SS.npy'), features)\n",
    "np.save(os.path.join(temp_dir, 'metadata.npy'), labels)\n",
    "\n",
    "# plt.imshow(CD)"
   ]
  },
  {
   "cell_type": "markdown",
   "metadata": {},
   "source": [
    "## Loading Image features"
   ]
  },
  {
   "cell_type": "code",
   "execution_count": 10,
   "metadata": {},
   "outputs": [
    {
     "name": "stderr",
     "output_type": "stream",
     "text": [
      "\u001b[38;5;39m[12/07/2021 01:20:29 PM ]-\u001b[38;5;226m[2DCNN_ipynb @3]\u001b[0m\u001b[38;5;39m-[INFO]\u001b[0m\u001b[31;1m\t\tprefeature shape: (1743, 60, 40, 10)\u001b[0m\n",
      "\u001b[38;5;39m[12/07/2021 01:20:29 PM ]-\u001b[38;5;226m[2DCNN_ipynb @7]\u001b[0m\u001b[38;5;39m-[INFO]\u001b[0m\u001b[31;1m\t\tprefeature shape: (1743, 10)\u001b[0m\n",
      "\u001b[38;5;39m[12/07/2021 01:20:29 PM ]-\u001b[38;5;226m[2DCNN_ipynb @10]\u001b[0m\u001b[38;5;39m-[INFO]\u001b[0m\u001b[31;1m\t\tbatch_size: 32\u001b[0m\n"
     ]
    }
   ],
   "source": [
    "Loading_path = os.path.join(temp_dir, 'prefeatures-SS.npy')\n",
    "prefeatures = np.load(Loading_path)\n",
    "logger.info(\"prefeature shape: {}\".format(prefeatures.shape))\n",
    "\n",
    "Loading_path = os.path.join(temp_dir, 'metadata.npy')\n",
    "metadata = np.load(Loading_path)\n",
    "logger.info(\"prefeature shape: {}\".format(metadata.shape))\n",
    "\n",
    "# #CD, PTI, Tmax, Tmin, P50, P60, P70, P80, P90, P100\n",
    "logger.info(\"batch_size: {}\".format(cfg.configs[\"CNN\"][\"batch_size\"]))"
   ]
  },
  {
   "cell_type": "markdown",
   "metadata": {},
   "source": [
    "## flatenning Images"
   ]
  },
  {
   "cell_type": "code",
   "execution_count": 77,
   "metadata": {},
   "outputs": [
    {
     "name": "stdout",
     "output_type": "stream",
     "text": [
      "WARNING:tensorflow:Model was constructed with shape (None, 60, 40, 3) for input KerasTensor(type_spec=TensorSpec(shape=(None, 60, 40, 3), dtype=tf.float64, name='original_img'), name='original_img', description=\"created by layer 'original_img'\"), but it was called on an input with incompatible shape (None, 60, 40).\n"
     ]
    },
    {
     "name": "stderr",
     "output_type": "stream",
     "text": [
      "Clipping input data to the valid range for imshow with RGB data ([0..1] for floats or [0..255] for integers).\n"
     ]
    },
    {
     "name": "stdout",
     "output_type": "stream",
     "text": [
      "0.0012436092\n",
      "(1, 60, 40)\n"
     ]
    },
    {
     "data": {
      "text/plain": [
       "<matplotlib.image.AxesImage at 0x220a9a78700>"
      ]
     },
     "execution_count": 77,
     "metadata": {},
     "output_type": "execute_result"
    },
    {
     "data": {
      "image/png": "[encoded data removed]",
      "text/plain": [
       "<Figure size 432x288 with 1 Axes>"
      ]
     },
     "metadata": {},
     "output_type": "display_data"
    },
    {
     "data": {
      "image/png": "[encoded data removed]",
      "text/plain": [
       "<Figure size 432x288 with 1 Axes>"
      ]
     },
     "metadata": {},
     "output_type": "display_data"
    }
   ],
   "source": [
    "\n",
    "input1 = tf.keras.layers.Input(shape=(60, 40, 3), dtype = tf.float64, name=\"original_img\")\n",
    "x = tf.cast(input1, tf.float32)\n",
    "output = tf.keras.layers.Rescaling(1./36185)(x)\n",
    "model1 = tf.keras.models.Model(inputs=input1, outputs=output, name=cfg.configs['CNN']['base_model'])\n",
    "\n",
    "\n",
    "\n",
    "\n",
    "# plt.imshow(images[1,:,:,:])\n",
    "# plt.figure()\n",
    "# plt.imshow(y_pred[0,...])\n",
    "\n",
    "images  = list()\n",
    "for sample in prefeatures:\n",
    "    # sample = sample.transpose((2, 0, 1))\n",
    "\n",
    "    # total_image = sample[0,:,:]\n",
    "    # total_image1 = sample[5,:,:]\n",
    "\n",
    "    # for i in range(1,5):\n",
    "    #     total_image = np.concatenate((total_image, sample[i,:,:]), axis=1)\n",
    "    #     total_image1 = np.concatenate((total_image1, sample[i+5,:,:]), axis=1)\n",
    "\n",
    "\n",
    "\n",
    "\n",
    "    # total_image = np.concatenate((total_image, total_image1), axis=0)\n",
    "    # total_image = total_image[:,:, np.newaxis]\n",
    "    # total_image = np.concatenate((total_image, total_image, total_image), axis=2)\n",
    "\n",
    "    # images.append(total_image)\n",
    "\n",
    "\n",
    "    t_image = sample[:, :, 0:3]\n",
    "    y_pred = model1.predict(t_image[np.newaxis,:,:,0])\n",
    "    images.append(t_image)\n",
    "    # print(np.max(images[1:2,:,:,:]))\n",
    "    print(np.max(y_pred))\n",
    "    print(np.shape(y_pred))\n",
    "\n",
    "\n",
    "    # plt.figure(figsize=(20,20))\n",
    "    # plt.imshow( total_image)\n",
    "    # plt.show()\n",
    "\n",
    "    # print(type(total_image))\n",
    "    # print(total_image.dtype)\n",
    "    # print(total_image.shape)\n",
    "\n",
    "\n",
    "\n",
    "    # print(result)\n",
    "\n",
    "    break\n",
    "images =np.array(images)\n",
    "plt.imshow(images[0,...])\n",
    "plt.figure()\n",
    "plt.imshow(y_pred[0,...])"
   ]
  },
  {
   "cell_type": "code",
   "execution_count": 30,
   "metadata": {},
   "outputs": [
    {
     "data": {
      "text/plain": [
       "<tf.Tensor: shape=(80,), dtype=float32, numpy=\n",
       "array([0., 0., 0., 0., 0., 0., 0., 0., 0., 0., 0., 0., 0., 0., 0., 0., 0.,\n",
       "       0., 0., 0., 0., 0., 0., 0., 0., 0., 0., 0., 0., 0., 0., 0., 0., 0.,\n",
       "       0., 0., 0., 0., 0., 0., 0., 0., 0., 0., 0., 0., 0., 0., 0., 0., 0.,\n",
       "       0., 0., 0., 0., 1., 0., 0., 0., 0., 0., 0., 0., 0., 0., 0., 0., 0.,\n",
       "       0., 0., 0., 0., 0., 0., 0., 0., 0., 0., 0., 0.], dtype=float32)>"
      ]
     },
     "execution_count": 30,
     "metadata": {},
     "output_type": "execute_result"
    }
   ],
   "source": [
    "# CC=tf.keras.utils.to_categorical( metadata[:,0], num_classes=len(np.unique(metadata[:,0])))\n",
    "# # one_hot_labels==CC\n",
    "# len(np.unique(metadata[:,0]))\n",
    "from sklearn import preprocessing as pre\n",
    "indices = metadata[:,0]\n",
    "le = pre.LabelEncoder()\n",
    "le.fit(indices)\n",
    "le.classes_\n",
    "indices=le.transform(indices)\n",
    "len(np.unique(indices))\n",
    "\n",
    "depth = len(np.unique(metadata[:,0]))\n",
    "one_hot_labels = tf.one_hot(indices, depth)\n",
    "\n",
    "one_hot_labels\n"
   ]
  },
  {
   "cell_type": "markdown",
   "metadata": {},
   "source": [
    "model = tf.keras.Sequential()\n",
    "model.add(tf.keras.layers.Conv2D(32, kernel_size=(3, 3),\n",
    "                    activation='relu',\n",
    "                    input_shape=cfg.configs[\"CNN\"][\"image_size\"]))\n",
    "model.add(tf.keras.layers.Conv2D(64, (3, 3), activation='relu'))\n",
    "model.add(tf.keras.layers.MaxPooling2D(pool_size=(2, 2)))\n",
    "model.add(tf.keras.layers.Dropout(0.25))\n",
    "model.add(Flatten())\n",
    "model.add(Dense(128, activation='relu'))\n",
    "model.add(tf.keras.layers.Dropout(0.5))\n",
    "model.add(Dense(2, activation='softmax'))\n",
    "#model.summary()\n",
    "model.compile(loss='categorical_crossentropy', optimizer=tf.keras.optimizers.Adadelta(), metrics=['accuracy'])\n",
    "weight_path=\"{}_weights.best.hdf5\".format('casia-D_classification-smax')\n",
    "    \n",
    "checkpoint = callbacks.ModelCheckpoint(weight_path, monitor='val_loss', verbose=1, save_best_only=True, mode='min', save_weights_only = False)\n",
    "history=model.fit(x_train, y_train, batch_size=batch_size, epochs=epochs, verbose=1, validation_data=(x_cv, y_cv),callbacks = [checkpoint],shuffle=True)\n",
    "#model.fit(x_train, y_train, batch_size=batch_size, epochs=epochs, verbose=1, validation_data=(x_test, y_test))\n",
    "model1=load_model('/home/pk/Desktop/pradeep/Saeed/code/casia-D_classification-smax_weights.best.hdf5')\n",
    "score_cv = model1.evaluate(x_cv, y_cv, verbose=0)\n",
    "score_te = model1.evaluate(x_test, y_test, verbose=0)\n",
    "for os in range(51,98):#opens set\n",
    "    path='/home/pk/Desktop/pradeep/Saeed/Archive/'+str(os)+'_subject.0/'\n",
    "    temp = load_data(path);temp=np.vstack(temp);X_os.append(temp)\n",
    "X_os=np.vstack(X_os); X_os = X_os.reshape(X_os.shape[0], img_rows, img_cols, 1);X_os = X_os.astype('float32');  X_os /= 255\n",
    "y_os=np.append(np.expand_dims(np.ones(len(X_os)),1),np.expand_dims(np.zeros(len(X_os)),1),1)\n",
    "score_os = model1.evaluate(X_os, y_os, verbose=0)\n",
    "#pred=model1.predict(X_os)\n",
    "U_matrix.append([u,score_cv[1],score_te[1],score_os[1]])\n",
    "K.clear_session()\n",
    "#    print('Test loss:', score[0])\n",
    "#    print('Test accuracy:', score[1])\n",
    "np.savetxt('Casia=D_results_softmax.csv',np.vstack(U_matrix),delimiter=',')"
   ]
  },
  {
   "cell_type": "markdown",
   "metadata": {},
   "source": [
    "# Making Base Model"
   ]
  },
  {
   "cell_type": "code",
   "execution_count": 48,
   "metadata": {},
   "outputs": [
    {
     "name": "stderr",
     "output_type": "stream",
     "text": [
      "\u001b[38;5;39m[12/07/2021 03:19:58 PM ]-\u001b[38;5;226m[2DCNN_ipynb @2]\u001b[0m\u001b[38;5;39m-[INFO]\u001b[0m\u001b[31;1m\t\tLoading mobilenet.MobileNet model...\u001b[0m\n"
     ]
    },
    {
     "name": "stdout",
     "output_type": "stream",
     "text": [
      "WARNING:tensorflow:`input_shape` is undefined or non-square, or `rows` is not in [128, 160, 192, 224]. Weights for input shape (224, 224) will be loaded as the default.\n"
     ]
    },
    {
     "name": "stderr",
     "output_type": "stream",
     "text": [
      "\u001b[38;5;39m[12/07/2021 03:19:59 PM ]-\u001b[38;5;226m[2DCNN_ipynb @4]\u001b[0m\u001b[38;5;39m-[INFO]\u001b[0m\u001b[31;1m\t\tSuccessfully loaded base model and model...\u001b[0m\n"
     ]
    }
   ],
   "source": [
    "try:\n",
    "    logger.info(f\"Loading { cfg.configs['CNN']['base_model'] } model...\")\n",
    "    base_model = eval(\"tf.keras.applications.\" + cfg.configs[\"CNN\"][\"base_model\"] + \"(weights=cfg.configs['CNN']['weights'], include_top=cfg.configs['CNN']['include_top'])\")\n",
    "    logger.info(\"Successfully loaded base model and model...\")\n",
    "\n",
    "except Exception as e: \n",
    "    \n",
    "    base_model = None\n",
    "    logger.error(\"The base model could NOT be loaded correctly!!!\")\n",
    "    print(e)\n",
    "\n",
    "\n",
    "base_model.trainable = False\n",
    "\n",
    "CNN_name = cfg.configs[\"CNN\"][\"base_model\"].split(\".\")[0]\n",
    "\n",
    "input = tf.keras.layers.Input(shape=cfg.configs[\"CNN\"][\"image_size\"], dtype = tf.float64, name=\"original_img\")\n",
    "x = tf.cast(input, tf.float32)\n",
    "x = tf.keras.layers.Rescaling(1./36185)(x)\n",
    "x = eval(\"tf.keras.applications.\" + CNN_name + \".preprocess_input(x)\")\n",
    "x = base_model(x)\n",
    "x = tf.keras.layers.GlobalMaxPool2D()(x)\n",
    "x = tf.keras.layers.Dense(256, activation='relu', name=\"last_dense\")(x)\n",
    "output = tf.keras.layers.Dense(cfg.configs['CNN']['class_numbers'], activation='softmax', name=\"prediction\")(x) # cfg.configs['CNN']['class_numbers']"
   ]
  },
  {
   "cell_type": "markdown",
   "metadata": {},
   "source": [
    "# The CNN Model"
   ]
  },
  {
   "cell_type": "code",
   "execution_count": 49,
   "metadata": {},
   "outputs": [
    {
     "name": "stdout",
     "output_type": "stream",
     "text": [
      "0 original_img True\n",
      "1 tf.cast_1 True\n",
      "2 rescaling True\n",
      "3 tf.math.truediv_1 True\n",
      "4 tf.math.subtract_1 True\n",
      "5 mobilenet_1.00_224 False\n",
      "6 global_max_pooling2d_1 True\n",
      "7 last_dense True\n",
      "8 prediction True\n",
      "Model: \"mobilenet.MobileNet\"\n",
      "_________________________________________________________________\n",
      " Layer (type)                Output Shape              Param #   \n",
      "=================================================================\n",
      " original_img (InputLayer)   [(None, 120, 200, 3)]     0         \n",
      "                                                                 \n",
      " tf.cast_1 (TFOpLambda)      (None, 120, 200, 3)       0         \n",
      "                                                                 \n",
      " rescaling (Rescaling)       (None, 120, 200, 3)       0         \n",
      "                                                                 \n",
      " tf.math.truediv_1 (TFOpLamb  (None, 120, 200, 3)      0         \n",
      " da)                                                             \n",
      "                                                                 \n",
      " tf.math.subtract_1 (TFOpLam  (None, 120, 200, 3)      0         \n",
      " bda)                                                            \n",
      "                                                                 \n",
      " mobilenet_1.00_224 (Functio  (None, None, None, 1024)  3228864  \n",
      " nal)                                                            \n",
      "                                                                 \n",
      " global_max_pooling2d_1 (Glo  (None, 1024)             0         \n",
      " balMaxPooling2D)                                                \n",
      "                                                                 \n",
      " last_dense (Dense)          (None, 256)               262400    \n",
      "                                                                 \n",
      " prediction (Dense)          (None, 80)                20560     \n",
      "                                                                 \n",
      "=================================================================\n",
      "Total params: 3,511,824\n",
      "Trainable params: 282,960\n",
      "Non-trainable params: 3,228,864\n",
      "_________________________________________________________________\n",
      "('You must install pydot (`pip install pydot`) and install graphviz (see instructions at https://graphviz.gitlab.io/download/) ', 'for plot_model/model_to_dot to work.')\n"
     ]
    }
   ],
   "source": [
    "model = tf.keras.models.Model(inputs=input, outputs=output, name=cfg.configs['CNN']['base_model'])\n",
    "\n",
    "# Freeze the layers \n",
    "for layer in model.layers[-2:]:\n",
    "    layer.trainable = True\n",
    "\n",
    "for i,layer in enumerate(model.layers):\n",
    "    print(i,layer.name,layer.trainable)\n",
    "\n",
    "model.summary() \n",
    "\n",
    "\n",
    "tf.keras.utils.plot_model(model, to_file=cfg.configs['CNN']['base_model'] + \".png\", show_shapes=True)\n",
    "plt.show()\n"
   ]
  },
  {
   "cell_type": "code",
   "execution_count": 58,
   "metadata": {},
   "outputs": [
    {
     "name": "stdout",
     "output_type": "stream",
     "text": [
      "(1, 120, 200, 3)\n",
      "(1743, 80)\n"
     ]
    },
    {
     "data": {
      "text/plain": [
       "36185.0"
      ]
     },
     "execution_count": 58,
     "metadata": {},
     "output_type": "execute_result"
    }
   ],
   "source": [
    "print(images[1:2,:,:,:].shape)\n",
    "print(one_hot_labels.shape)\n",
    "np.max(images[...,1])"
   ]
  },
  {
   "cell_type": "code",
   "execution_count": 50,
   "metadata": {},
   "outputs": [
    {
     "name": "stdout",
     "output_type": "stream",
     "text": [
      "Epoch 1/10\n",
      "44/44 [==============================] - 25s 520ms/step - loss: 4.8097 - accuracy: 0.0143 - val_loss: 4.8289 - val_accuracy: 0.0000e+00 - lr: 0.0010\n",
      "Epoch 2/10\n",
      "44/44 [==============================] - 20s 457ms/step - loss: 4.7975 - accuracy: 0.0143 - val_loss: 4.8283 - val_accuracy: 0.0000e+00 - lr: 0.0010\n",
      "Epoch 3/10\n",
      "44/44 [==============================] - 20s 456ms/step - loss: 4.7857 - accuracy: 0.0143 - val_loss: 4.8282 - val_accuracy: 0.0000e+00 - lr: 0.0010\n",
      "Epoch 4/10\n",
      "44/44 [==============================] - 20s 445ms/step - loss: 4.7742 - accuracy: 0.0143 - val_loss: 4.8286 - val_accuracy: 0.0000e+00 - lr: 0.0010\n",
      "Epoch 5/10\n",
      "44/44 [==============================] - 18s 415ms/step - loss: 4.7631 - accuracy: 0.0143 - val_loss: 4.8294 - val_accuracy: 0.0000e+00 - lr: 0.0010\n",
      "Epoch 6/10\n",
      "44/44 [==============================] - 18s 421ms/step - loss: 4.7523 - accuracy: 0.0143 - val_loss: 4.8307 - val_accuracy: 0.0000e+00 - lr: 0.0010\n",
      "Epoch 7/10\n",
      "44/44 [==============================] - 19s 427ms/step - loss: 4.7418 - accuracy: 0.0143 - val_loss: 4.8324 - val_accuracy: 0.0000e+00 - lr: 0.0010\n",
      "Epoch 8/10\n",
      "44/44 [==============================] - 20s 465ms/step - loss: 4.7317 - accuracy: 0.0143 - val_loss: 4.8346 - val_accuracy: 0.0000e+00 - lr: 0.0010\n",
      "Epoch 9/10\n",
      "44/44 [==============================] - 19s 441ms/step - loss: 4.7218 - accuracy: 0.0143 - val_loss: 4.8372 - val_accuracy: 0.0000e+00 - lr: 0.0010\n",
      "Epoch 10/10\n",
      "44/44 [==============================] - 20s 456ms/step - loss: 4.7121 - accuracy: 0.0143 - val_loss: 4.8400 - val_accuracy: 0.0000e+00 - lr: 0.0010\n"
     ]
    }
   ],
   "source": [
    "model.compile(\n",
    "    optimizer=tf.keras.optimizers.Adadelta(), \n",
    "    loss=tf.keras.losses.CategoricalCrossentropy(), \n",
    "    metrics=['accuracy']\n",
    "    )\n",
    "time = int(timeit.timeit())*1_000_000\n",
    "checkpoint = [\n",
    "        callbacks.ModelCheckpoint(cfg.configs[\"CNN\"][\"saving_path\"], save_best_only=True, monitor=\"val_loss\"),\n",
    "        callbacks.ReduceLROnPlateau(monitor=\"val_loss\", factor=0.5, patience=20, min_lr=0.0001),\n",
    "        callbacks.EarlyStopping( monitor=\"val_loss\", patience=50, verbose=1),\n",
    "        callbacks.TensorBoard(log_dir='TensorBoard_logs/{time}')  \n",
    "    ]    \n",
    "\n",
    "\n",
    "history = model.fit(\n",
    "    images,\n",
    "    one_hot_labels,\n",
    "    batch_size=cfg.configs[\"CNN\"][\"batch_size\"],\n",
    "    callbacks=[checkpoint],\n",
    "    epochs= cfg.configs[\"CNN\"][\"epochs\"],\n",
    "    validation_split=cfg.configs[\"CNN\"][\"validation_split\"],\n",
    "    verbose=cfg.configs[\"CNN\"][\"verbose\"],\n",
    "    shuffle=True,\n",
    ")"
   ]
  },
  {
   "cell_type": "code",
   "execution_count": 12,
   "metadata": {},
   "outputs": [
    {
     "data": {
      "text/plain": [
       "Text(0, 0.5, 'Accuracy')"
      ]
     },
     "execution_count": 12,
     "metadata": {},
     "output_type": "execute_result"
    },
    {
     "data": {
      "image/png": "[encoded data removed]",
      "text/plain": [
       "<Figure size 432x288 with 1 Axes>"
      ]
     },
     "metadata": {},
     "output_type": "display_data"
    }
   ],
   "source": [
    "plt.plot(history.history['accuracy'], label='accuracy')\n",
    "plt.plot(history.history['val_accuracy'], label = 'val_accuracy')\n",
    "\n",
    "plt.xlabel('Epoch')\n",
    "plt.ylabel('Accuracy')"
   ]
  }
 ],
 "metadata": {
  "interpreter": {
   "hash": "d420073edfc19a3b1ff3b429a894eba8b52a8b645a9b23b28e961e231b9db723"
  },
  "kernelspec": {
   "display_name": "Python 3.9.7 64-bit",
   "language": "python",
   "name": "python3"
  },
  "language_info": {
   "codemirror_mode": {
    "name": "ipython",
    "version": 3
   },
   "file_extension": ".py",
   "mimetype": "text/x-python",
   "name": "python",
   "nbconvert_exporter": "python",
   "pygments_lexer": "ipython3",
   "version": "3.9.7"
  },
  "orig_nbformat": 4
 },
 "nbformat": 4,
 "nbformat_minor": 2
}
